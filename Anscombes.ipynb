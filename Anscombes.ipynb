{
 "cells": [
  {
   "cell_type": "markdown",
   "metadata": {},
   "source": [
    "# Anscombe’s quartet dataset"
   ]
  },
  {
   "cell_type": "markdown",
   "metadata": {},
   "source": [
    "**Who was Anscombes?**\n",
    "\n",
    "Born in Hove in England, Francis John Anscombe was a mathematician who helped computerize statistical analyses while seeking to avoid flawed interpretations of such data. Anscombe was educated at Trinity College at Cambridge University.\n",
    "\n",
    "After serving in the Second World War, he joined Rothamsted Experimental Station for two years before returning to Cambridge as a lecturer.\n",
    "\n",
    "In experiments, Anscombe emphasized randomization in both the design and analysis phases. In the design phase, Anscombe argued that the experimenters should randomize the labels of blocks. In the analysis phase, Anscombe argued that the randomization plan should guide the analysis of data; Anscombe's approach has influenced John Nelder and R. A. Bailey in particular.\n",
    "\n",
    "He moved to Princeton University in 1956, and in the same year he was elected as a Fellow of the American Statistical Association.\n",
    "\n",
    "Mr. Anscombe was invited to join the Yale mathematics department in 1963 by Tjalling C. Koopmans, an economist who later shared a Nobel Prize for his theories on the optimal allocation of resources. He asked Mr. Anscombe to organize a separate department of statistics, of which he became the founding chairman.\n",
    "\n",
    "His mission was to build the department's graduate programs with established Yale statisticians, whom he recruited from disciplines like epidemiology and public health, economics and mathematics. He headed the department for six years.\n",
    "\n",
    "In using computers to analyze statistical data, he drew on his expertise in the sampling of inspections for industrial quality control, the philosophical foundations of probability and the analysis of variance. Besides publishing 50 research articles, he wrote a classic text, ''Computing in Statistical Science Through APL'' (Springer, 1981), which remains in print. (APL is short for A Programming Language.)\n",
    "\n",
    "He was emphatic in cautioning against misdiagnosing and misapplying computer models without obtaining the necessary proof. He detailed the need for great care in a celebrated paper in 1973 by demonstrating how one equation could neatly fit four different sets of data.\n",
    "\n",
    "*(Source: https://www.nytimes.com/2001/10/25/nyregion/francis-john-anscombe-83-mathematician-and-professor.html and https://en.wikipedia.org/wiki/Frank_Anscombe)*\n",
    "\n",
    "***Work:***\n",
    "\n",
    "One of is best-known works may be his 1961 account of formal properties of residuals in linear regression. His earlier suggestion for a variance-stabilizing transformation for Poisson data is often known as the Anscombe transform.\n",
    "\n",
    "He later became interested in statistical computing, and stressed that \"a computer should make both calculations and graphs\", and illustrated the importance of graphing data with four data sets now known as Anscombe's quartet. He later published a textbook on statistical computing in APL.\n",
    "\n",
    "In economics and decision theory he is best known for a 1963 paper with Robert Aumann which provides the standard basis for the theory of subjective probability.\n",
    "\n",
    "*(Source: https://en.wikipedia.org/wiki/Frank_Anscombe)*\n",
    "\n",
    "\n",
    "\n"
   ]
  },
  {
   "cell_type": "markdown",
   "metadata": {},
   "source": [
    "**Anscombes quartet data set**\n",
    "\n",
    "\n",
    "The base of the interest of the Anscombe's quartet dataset is that even a set of unmbers can have the same mean X and Y and the regression line that best fits the 4th of them is the same, the data varies significntly between them. \n",
    "\n",
    "In fact, studying the data set the variance of both X and Y (and hence the standard deviation) is also the pretty much the same in every chart. As is the correlation coefficient of X and Y, and the regression line that would be the line of best fit if were you to generate a linear model based on each of those 4 datasets.\n",
    "\n",
    "The point is to show the true power of data visualisation. There are some summary stats that  might be so summarised that they can lead to an entirely misleading perception. Then the importance of this data set is the exemplification that summarising in excess the data can lead to wrong predictions or interpretations and the importance of visualisation to identify this variations. In the Anscombes quartet dataset thanks to the visualisation of the data the differences are made clear.\n",
    "\n",
    "http://www.sjsu.edu/faculty/gerstman/StatPrimer/anscombe1973.pdf"
   ]
  },
  {
   "cell_type": "markdown",
   "metadata": {},
   "source": [
    "**Plotting the data set**\n"
   ]
  },
  {
   "cell_type": "markdown",
   "metadata": {},
   "source": [
    "***Data set I***"
   ]
  },
  {
   "cell_type": "code",
   "execution_count": 1,
   "metadata": {},
   "outputs": [],
   "source": [
    "# Make matplotlib show interactive plots in the notebook.\n",
    "%matplotlib inline"
   ]
  },
  {
   "cell_type": "code",
   "execution_count": 2,
   "metadata": {},
   "outputs": [],
   "source": [
    "# numpy efficiently deals with numerical multi-dimensional arrays.\n",
    "import numpy as np\n",
    "\n",
    "# matplotlib is a plotting library, and pyplot is its easy-to-use module.\n",
    "import matplotlib.pyplot as plt\n",
    "\n",
    "# This just sets the default plot size to be bigger.\n",
    "plt.rcParams['figure.figsize'] = (12, 7)"
   ]
  },
  {
   "cell_type": "code",
   "execution_count": 3,
   "metadata": {},
   "outputs": [
    {
     "data": {
      "image/png": "[encoded data removed]",
      "text/plain": [
       "<matplotlib.figure.Figure at 0x116485278>"
      ]
     },
     "metadata": {
      "needs_background": "light"
     },
     "output_type": "display_data"
    }
   ],
   "source": [
    "#plot the visualisation with the first set of arrays\n",
    "import matplotlib.pyplot as plt\n",
    "\n",
    "plt.plot([10.0,8.0,13.0,9.0,11.0,14.0,6.0,4.0,12.0,7.0,5.0], [8.04,6.95,7.58,8.81,8.33,9.96,7.24,4.26,10.84,4.82,5.68], 'ro')\n",
    "plt.axis([0, 19, 0, 14])\n",
    "plt.show()"
   ]
  },
  {
   "cell_type": "code",
   "execution_count": 11,
   "metadata": {},
   "outputs": [],
   "source": [
    "w = (10.0,8.0,13.0,9.0,11.0,14.0,6.0,4.0,12.0,7.0,5.0)"
   ]
  },
  {
   "cell_type": "code",
   "execution_count": 5,
   "metadata": {},
   "outputs": [],
   "source": [
    "d = (8.04,6.95,7.58,8.81,8.33,9.96,7.24,4.26,10.84,4.82,5.68)"
   ]
  },
  {
   "cell_type": "code",
   "execution_count": 6,
   "metadata": {},
   "outputs": [
    {
     "name": "stdout",
     "output_type": "stream",
     "text": [
      "m is 0.500091 and c is 3.000091.\n"
     ]
    }
   ],
   "source": [
    "# Calculate the best values for m and c.\n",
    "\n",
    "# First calculate the means (a.k.a. averages) of w and d.\n",
    "w_avg = np.mean(w)\n",
    "d_avg = np.mean(d)\n",
    "\n",
    "# Subtract means from w and d.\n",
    "w_zero = w - w_avg\n",
    "d_zero = d - d_avg\n",
    "\n",
    "# The best m is found by the following calculation.\n",
    "m = np.sum(w_zero * d_zero) / np.sum(w_zero * w_zero)\n",
    "# Use m from above to calculate the best c.\n",
    "c = d_avg - m * w_avg\n",
    "\n",
    "print(\"m is %8.6f and c is %6.6f.\" % (m, c))"
   ]
  },
  {
   "cell_type": "code",
   "execution_count": 7,
   "metadata": {},
   "outputs": [
    {
     "data": {
      "text/plain": [
       "array([0.50009091, 3.00009091])"
      ]
     },
     "execution_count": 7,
     "metadata": {},
     "output_type": "execute_result"
    }
   ],
   "source": [
    "np.polyfit(w, d, 1)"
   ]
  },
  {
   "cell_type": "code",
   "execution_count": 8,
   "metadata": {},
   "outputs": [],
   "source": [
    "m = 0.50009091"
   ]
  },
  {
   "cell_type": "code",
   "execution_count": 13,
   "metadata": {},
   "outputs": [],
   "source": [
    "w = np.asarray(w)"
   ]
  },
  {
   "cell_type": "code",
   "execution_count": 14,
   "metadata": {},
   "outputs": [
    {
     "data": {
      "image/png": "[encoded data removed]",
      "text/plain": [
       "<matplotlib.figure.Figure at 0x116791e48>"
      ]
     },
     "metadata": {
      "needs_background": "light"
     },
     "output_type": "display_data"
    }
   ],
   "source": [
    "# Plot the best fit line.\n",
    "plt.plot(w, d, 'k.', label='Original data')\n",
    "plt.plot(w, m * w + c, 'b-', label='Best fit line')\n",
    "\n",
    "# Show the plot.\n",
    "plt.show()"
   ]
  },
  {
   "cell_type": "markdown",
   "metadata": {},
   "source": [
    "***Data set II***"
   ]
  },
  {
   "cell_type": "code",
   "execution_count": 15,
   "metadata": {},
   "outputs": [
    {
     "data": {
      "image/png": "[encoded data removed]",
      "text/plain": [
       "<matplotlib.figure.Figure at 0x116add1d0>"
      ]
     },
     "metadata": {
      "needs_background": "light"
     },
     "output_type": "display_data"
    }
   ],
   "source": [
    "#plot the visualisation with the second set of arrays\n",
    "import matplotlib.pyplot as plt\n",
    "plt.plot([10.0,8.0,13.0,9.0,11.0,14.0,6.0,4.0,12.0,7.0,5.0], [9.14,8.14,8.74,8.77,9.26,8.10,6.13,3.10,9.13,7.26,4.74], 'ro')\n",
    "plt.axis([0, 19, 0, 14])\n",
    "plt.show()"
   ]
  },
  {
   "cell_type": "markdown",
   "metadata": {},
   "source": [
    "***Data set III***"
   ]
  },
  {
   "cell_type": "code",
   "execution_count": null,
   "metadata": {},
   "outputs": [],
   "source": [
    "#plot the visualisation with the third set of arrays\n",
    "import matplotlib.pyplot as plt\n",
    "plt.plot([10.0,8.0,13.0,9.0,11.0,14.0,6.0,4.0,12.0,7.0,5.0], [7.46,6.77,12.74,7.11,7.81,8.84,6.08,5.39,8.15,6.42,5.73], 'ro')\n",
    "plt.axis([0, 19, 0, 14])\n",
    "plt.show()"
   ]
  },
  {
   "cell_type": "markdown",
   "metadata": {},
   "source": [
    "***Data set IIII***"
   ]
  },
  {
   "cell_type": "code",
   "execution_count": null,
   "metadata": {},
   "outputs": [],
   "source": [
    "#plot the visualisation with the fourth set of arrays\n",
    "import matplotlib.pyplot as plt\n",
    "plt.plot([8.0,8.0,8.0,8.0,8.0,8.0,8.0,19.0,8.0,8.0,8.0], [6.58,5.76,7.71,8.84,8.47,7.04,5.25,12.50,5.56,7.91,6.89], 'ro')\n",
    "plt.axis([0, 20, 0, 14])\n",
    "plt.show()"
   ]
  },
  {
   "cell_type": "code",
   "execution_count": null,
   "metadata": {},
   "outputs": [],
   "source": []
  }
 ],
 "metadata": {
  "kernelspec": {
   "display_name": "Python 3",
   "language": "python",
   "name": "python3"
  },
  "language_info": {
   "codemirror_mode": {
    "name": "ipython",
    "version": 3
   },
   "file_extension": ".py",
   "mimetype": "text/x-python",
   "name": "python",
   "nbconvert_exporter": "python",
   "pygments_lexer": "ipython3",
   "version": "3.6.6"
  }
 },
 "nbformat": 4,
 "nbformat_minor": 2
}
