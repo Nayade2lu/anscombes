{
 "cells": [
  {
   "cell_type": "markdown",
   "metadata": {},
   "source": [
    "# Anscombe’s quartet dataset"
   ]
  },
  {
   "cell_type": "markdown",
   "metadata": {},
   "source": [
    "**Who was Anscombes?**\n",
    "\n",
    "Born in Hove in England, Francis John Anscombe was a mathematician who helped computerize statistical analyses while seeking to avoid flawed interpretations of such data. Anscombe was educated at Trinity College at Cambridge University.\n",
    "\n",
    "After serving in the Second World War, he joined Rothamsted Experimental Station for two years before returning to Cambridge as a lecturer.\n",
    "\n",
    "In experiments, Anscombe emphasized randomization in both the design and analysis phases. In the design phase, Anscombe argued that the experimenters should randomize the labels of blocks. In the analysis phase, Anscombe argued that the randomization plan should guide the analysis of data; Anscombe's approach has influenced John Nelder and R. A. Bailey in particular.\n",
    "\n",
    "He moved to Princeton University in 1956, and in the same year he was elected as a Fellow of the American Statistical Association.\n",
    "\n",
    "Mr. Anscombe was invited to join the Yale mathematics department in 1963 by Tjalling C. Koopmans, an economist who later shared a Nobel Prize for his theories on the optimal allocation of resources. He asked Mr. Anscombe to organize a separate department of statistics, of which he became the founding chairman.\n",
    "\n",
    "His mission was to build the department's graduate programs with established Yale statisticians, whom he recruited from disciplines like epidemiology and public health, economics and mathematics. He headed the department for six years.\n",
    "\n",
    "In using computers to analyze statistical data, he drew on his expertise in the sampling of inspections for industrial quality control, the philosophical foundations of probability and the analysis of variance. Besides publishing 50 research articles, he wrote a classic text, ''Computing in Statistical Science Through APL'' (Springer, 1981), which remains in print. (APL is short for A Programming Language.)\n",
    "\n",
    "He was emphatic in cautioning against misdiagnosing and misapplying computer models without obtaining the necessary proof. He detailed the need for great care in a celebrated paper in 1973 by demonstrating how one equation could neatly fit four different sets of data.\n",
    "\n",
    "*(Source: https://www.nytimes.com/2001/10/25/nyregion/francis-john-anscombe-83-mathematician-and-professor.html and https://en.wikipedia.org/wiki/Frank_Anscombe)*\n",
    "\n",
    "***Work:***\n",
    "\n",
    "One of is best-known works may be his 1961 account of formal properties of residuals in linear regression. His earlier suggestion for a variance-stabilizing transformation for Poisson data is often known as the Anscombe transform.\n",
    "\n",
    "He later became interested in statistical computing, and stressed that \"a computer should make both calculations and graphs\", and illustrated the importance of graphing data with four data sets now known as Anscombe's quartet. He later published a textbook on statistical computing in APL.\n",
    "\n",
    "In economics and decision theory he is best known for a 1963 paper with Robert Aumann which provides the standard basis for the theory of subjective probability.\n",
    "\n",
    "*(Source: https://en.wikipedia.org/wiki/Frank_Anscombe)*\n",
    "\n",
    "\n",
    "\n"
   ]
  },
  {
   "cell_type": "markdown",
   "metadata": {},
   "source": [
    "**Anscombes quartet data set**\n",
    "\n",
    "\n",
    "The base of the interest of the Anscombe's quartet dataset is that even a set of unmbers can have the same mean X and Y and the regression line that best fits the 4th of them is the same, the data varies significntly between them. \n",
    "\n",
    "In fact, studying the data set the variance of both X and Y (and hence the standard deviation) is also the pretty much the same in every chart. As is the correlation coefficient of X and Y, and the regression line that would be the line of best fit if were you to generate a linear model based on each of those 4 datasets.\n",
    "\n",
    "The point is to show the true power of data visualisation. There are some summary stats that  might be so summarised that they can lead to an entirely misleading perception. Then the importance of this data set is the exemplification that summarising in excess the data can lead to wrong predictions or interpretations and the importance of visualisation to identify this variations. In the Anscombes quartet dataset thanks to the visualisation of the data the differences are made clear."
   ]
  },
  {
   "cell_type": "code",
   "execution_count": null,
   "metadata": {},
   "outputs": [],
   "source": []
  }
 ],
 "metadata": {
  "kernelspec": {
   "display_name": "Python 3",
   "language": "python",
   "name": "python3"
  },
  "language_info": {
   "codemirror_mode": {
    "name": "ipython",
    "version": 3
   },
   "file_extension": ".py",
   "mimetype": "text/x-python",
   "name": "python",
   "nbconvert_exporter": "python",
   "pygments_lexer": "ipython3",
   "version": "3.6.6"
  }
 },
 "nbformat": 4,
 "nbformat_minor": 2
}
