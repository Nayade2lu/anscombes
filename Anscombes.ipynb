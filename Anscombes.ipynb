{
 "cells": [
  {
   "cell_type": "markdown",
   "metadata": {},
   "source": [
    "# Anscombe’s quartet dataset"
   ]
  },
  {
   "cell_type": "markdown",
   "metadata": {},
   "source": [
    "**Who was Anscombes?**\n",
    "\n",
    "Born in Hove in England, Francis John Anscombe was a mathematician who helped computerize statistical analyses while seeking to avoid flawed interpretations of such data. Anscombe was educated at Trinity College at Cambridge University.\n",
    "\n",
    "After serving in the Second World War, he joined Rothamsted Experimental Station for two years before returning to Cambridge as a lecturer.\n",
    "\n",
    "In experiments, Anscombe emphasized randomization in both the design and analysis phases. In the design phase, Anscombe argued that the experimenters should randomize the labels of blocks. In the analysis phase, Anscombe argued that the randomization plan should guide the analysis of data; Anscombe's approach has influenced John Nelder and R. A. Bailey in particular.\n",
    "\n",
    "He moved to Princeton University in 1956, and in the same year he was elected as a Fellow of the American Statistical Association.\n",
    "\n",
    "Mr. Anscombe was invited to join the Yale mathematics department in 1963 by Tjalling C. Koopmans, an economist who later shared a Nobel Prize for his theories on the optimal allocation of resources. He asked Mr. Anscombe to organize a separate department of statistics, of which he became the founding chairman.\n",
    "\n",
    "His mission was to build the department's graduate programs with established Yale statisticians, whom he recruited from disciplines like epidemiology and public health, economics and mathematics. He headed the department for six years.\n",
    "\n",
    "In using computers to analyze statistical data, he drew on his expertise in the sampling of inspections for industrial quality control, the philosophical foundations of probability and the analysis of variance. Besides publishing 50 research articles, he wrote a classic text, ''Computing in Statistical Science Through APL'' (Springer, 1981), which remains in print. (APL is short for A Programming Language.)\n",
    "\n",
    "He was emphatic in cautioning against misdiagnosing and misapplying computer models without obtaining the necessary proof. He detailed the need for great care in a celebrated paper in 1973 by demonstrating how one equation could neatly fit four different sets of data.\n",
    "\n",
    "*(Source: https://www.nytimes.com/2001/10/25/nyregion/francis-john-anscombe-83-mathematician-and-professor.html and https://en.wikipedia.org/wiki/Frank_Anscombe)*\n",
    "\n",
    "***Work:***\n",
    "\n",
    "One of is best-known works is his 1961 account of formal properties of residuals in linear regression. His earlier suggestion for a variance-stabilizing transformation for Poisson data is often known as the Anscombe transform.\n",
    "\n",
    "He later became interested in statistical computing, and stressed that \"a computer should make both calculations and graphs\", and illustrated the importance of graphing data with four data sets now known as Anscombe's quartet. He later published a textbook on statistical computing in APL.\n",
    "\n",
    "In economics and decision theory he is best known for a 1963 paper with Robert Aumann which provides the standard basis for the theory of subjective probability.\n",
    "\n",
    "*(Source: https://en.wikipedia.org/wiki/Frank_Anscombe)*\n",
    "\n",
    "IN 1973 Ansacombes created the quartet data set widely known and studied in data analysis.\n",
    "\n",
    "\n",
    "\n"
   ]
  },
  {
   "cell_type": "markdown",
   "metadata": {},
   "source": [
    "**Anscombes quartet data set**\n",
    "\n",
    "Anscombe's quartet comprises four datasets that have nearly identical simple descriptive statistics, yet appear very different when graphed. Each dataset consists of eleven (x,y) points. They were constructed in 1973 by the statistician Francis Anscombe to demonstrate both the importance of graphing data before analyzing it and the effect of outliers on statistical properties. He described the article as being intended to counter the impression among statisticians that \"numerical calculations are exact, but graphs are rough.\n",
    "\n",
    "https://en.wikipedia.org/wiki/Anscombe%27s_quartet\n",
    "\n",
    "Despite the lack of evidences or information, the most factible speculation of the origin of the data set after reading Anscombes paper where he introduced the quartet data set, is the data of a study of per capita expenditures of public school education in USA. This study is mentioned while describing \"a peculiar effect in a extreme form\" in the second, third and fourth data set.\n",
    "\n"
   ]
  },
  {
   "cell_type": "markdown",
   "metadata": {},
   "source": [
    "**Plotting the data set**\n"
   ]
  },
  {
   "cell_type": "markdown",
   "metadata": {},
   "source": [
    "***Data set I***"
   ]
  },
  {
   "cell_type": "code",
   "execution_count": 1,
   "metadata": {},
   "outputs": [],
   "source": [
    "# Make matplotlib show interactive plots in the notebook.\n",
    "%matplotlib inline"
   ]
  },
  {
   "cell_type": "code",
   "execution_count": 2,
   "metadata": {},
   "outputs": [],
   "source": [
    "# numpy efficiently deals with numerical multi-dimensional arrays.\n",
    "import numpy as np\n",
    "\n",
    "# matplotlib is a plotting library, and pyplot is its easy-to-use module.\n",
    "import matplotlib.pyplot as plt\n",
    "\n",
    "# This just sets the default plot size to be bigger.\n",
    "plt.rcParams['figure.figsize'] = (12, 7)"
   ]
  },
  {
   "cell_type": "code",
   "execution_count": 3,
   "metadata": {
    "scrolled": true
   },
   "outputs": [
    {
     "data": {
      "image/png": "[encoded data removed]",
      "text/plain": [
       "<matplotlib.figure.Figure at 0x11bada2b0>"
      ]
     },
     "metadata": {
      "needs_background": "light"
     },
     "output_type": "display_data"
    }
   ],
   "source": [
    "#plot the visualisation with the first set of arrays\n",
    "import matplotlib.pyplot as plt\n",
    "\n",
    "#plot function and first set of arrays (x) and (y) \n",
    "plt.plot([10.0,8.0,13.0,9.0,11.0,14.0,6.0,4.0,12.0,7.0,5.0], [8.04,6.95,7.58,8.81,8.33,9.96,7.24,4.26,10.84,4.82,5.68], 'ro')\n",
    "\n",
    "#plot size per x axis and y axis\n",
    "plt.axis([0, 19, 0, 14])\n",
    "\n",
    "#function to show the plot\n",
    "plt.show()"
   ]
  },
  {
   "cell_type": "markdown",
   "metadata": {},
   "source": [
    "**Claculating the descriptive statistics**"
   ]
  },
  {
   "cell_type": "code",
   "execution_count": 4,
   "metadata": {},
   "outputs": [],
   "source": [
    "#declare the variable x1 as the values for x for the first data set\n",
    "x1 = (10.0,8.0,13.0,9.0,11.0,14.0,6.0,4.0,12.0,7.0,5.0)"
   ]
  },
  {
   "cell_type": "code",
   "execution_count": 5,
   "metadata": {},
   "outputs": [],
   "source": [
    "#declare the variable y1 as the values for y for the first data set\n",
    "y1 = (8.04,6.95,7.58,8.81,8.33,9.96,7.24,4.26,10.84,4.82,5.68)"
   ]
  },
  {
   "cell_type": "code",
   "execution_count": 6,
   "metadata": {},
   "outputs": [
    {
     "data": {
      "text/plain": [
       "9.0"
      ]
     },
     "execution_count": 6,
     "metadata": {},
     "output_type": "execute_result"
    }
   ],
   "source": [
    "#mean of all x values in the first data set\n",
    "x1_mean= np.mean(x1)\n",
    "x1_mean"
   ]
  },
  {
   "cell_type": "code",
   "execution_count": 7,
   "metadata": {},
   "outputs": [
    {
     "data": {
      "text/plain": [
       "7.500909090909093"
      ]
     },
     "execution_count": 7,
     "metadata": {},
     "output_type": "execute_result"
    }
   ],
   "source": [
    "#mean of all y values in the first data set\n",
    "y1_mean= np.mean(y1)\n",
    "y1_mean"
   ]
  },
  {
   "cell_type": "code",
   "execution_count": 8,
   "metadata": {},
   "outputs": [
    {
     "data": {
      "text/plain": [
       "array([0.50009091, 3.00009091])"
      ]
     },
     "execution_count": 8,
     "metadata": {},
     "output_type": "execute_result"
    }
   ],
   "source": [
    "#obtain the mean or reression coeficient and the cost for the first data set, the funtion np.polyfit gives us this informatio\n",
    "np.polyfit(x1, y1, 1)"
   ]
  },
  {
   "cell_type": "code",
   "execution_count": 9,
   "metadata": {},
   "outputs": [],
   "source": [
    "#declare the variable m1 as the values for mean for the first data set\n",
    "m1 = 0.50009091"
   ]
  },
  {
   "cell_type": "code",
   "execution_count": 10,
   "metadata": {},
   "outputs": [],
   "source": [
    "#declare the variable c1 as the values for the cost for the first data set\n",
    "c1 = 3.00009091"
   ]
  },
  {
   "cell_type": "code",
   "execution_count": 11,
   "metadata": {},
   "outputs": [
    {
     "data": {
      "text/plain": [
       "0.6665424595087752"
      ]
     },
     "execution_count": 11,
     "metadata": {},
     "output_type": "execute_result"
    }
   ],
   "source": [
    "# Calculate the R-squared value for the first data set.\n",
    "np.corrcoef(x1, y1)[0][1]**2"
   ]
  },
  {
   "cell_type": "code",
   "execution_count": 12,
   "metadata": {},
   "outputs": [],
   "source": [
    "#convert x1 from a list of floats into an array,  thus I would be able to use it to calculate the best fit line.\n",
    "#In Python, multiplying a string and a float makes no defined meaning\n",
    "x1 = np.asarray(x1)"
   ]
  },
  {
   "cell_type": "code",
   "execution_count": 13,
   "metadata": {},
   "outputs": [
    {
     "data": {
      "image/png": "[encoded data removed]",
      "text/plain": [
       "<matplotlib.figure.Figure at 0x11bada128>"
      ]
     },
     "metadata": {
      "needs_background": "light"
     },
     "output_type": "display_data"
    }
   ],
   "source": [
    "# Plot the best fit line with the first data set values.\n",
    "plt.plot(x1, y1, 'k.')\n",
    "plt.plot(x1, m1 * x1 + c1, 'b-')\n",
    "plt.axis([0, 19, 0, 14])\n",
    "# Show the plot.\n",
    "plt.show()"
   ]
  },
  {
   "cell_type": "markdown",
   "metadata": {},
   "source": [
    "***Data set II***"
   ]
  },
  {
   "cell_type": "code",
   "execution_count": 14,
   "metadata": {},
   "outputs": [
    {
     "data": {
      "image/png": "[encoded data removed]",
      "text/plain": [
       "<matplotlib.figure.Figure at 0x11c5140b8>"
      ]
     },
     "metadata": {
      "needs_background": "light"
     },
     "output_type": "display_data"
    }
   ],
   "source": [
    "#plot the visualisation with the second set of arrays\n",
    "import matplotlib.pyplot as plt\n",
    "\n",
    "#plot function and second set of arrays (x) and (y) \n",
    "plt.plot([10.0,8.0,13.0,9.0,11.0,14.0,6.0,4.0,12.0,7.0,5.0], [9.14,8.14,8.74,8.77,9.26,8.10,6.13,3.10,9.13,7.26,4.74], 'ro')\n",
    "\n",
    "##plot size per x axis and y axis\n",
    "plt.axis([0, 19, 0, 14])\n",
    "\n",
    "#function to show the plot\n",
    "plt.show()"
   ]
  },
  {
   "cell_type": "markdown",
   "metadata": {},
   "source": [
    "**Claculating the descriptive statistics**"
   ]
  },
  {
   "cell_type": "code",
   "execution_count": 15,
   "metadata": {},
   "outputs": [],
   "source": [
    "#declare the variable x2 as the values for x for the second data set\n",
    "x2 = (10.0,8.0,13.0,9.0,11.0,14.0,6.0,4.0,12.0,7.0,5.0)"
   ]
  },
  {
   "cell_type": "code",
   "execution_count": 16,
   "metadata": {},
   "outputs": [],
   "source": [
    "#declare the variable y2 as the values for y for the second data set\n",
    "y2 = (9.14,8.14,8.74,8.77,9.26,8.10,6.13,3.10,9.13,7.26,4.74)"
   ]
  },
  {
   "cell_type": "code",
   "execution_count": 17,
   "metadata": {},
   "outputs": [
    {
     "data": {
      "text/plain": [
       "9.0"
      ]
     },
     "execution_count": 17,
     "metadata": {},
     "output_type": "execute_result"
    }
   ],
   "source": [
    "#mean of x in the second data set\n",
    "x2_mean= np.mean(x2)\n",
    "x2_mean"
   ]
  },
  {
   "cell_type": "code",
   "execution_count": 18,
   "metadata": {},
   "outputs": [
    {
     "data": {
      "text/plain": [
       "7.50090909090909"
      ]
     },
     "execution_count": 18,
     "metadata": {},
     "output_type": "execute_result"
    }
   ],
   "source": [
    "#mean of y in the second data set\n",
    "y2_mean= np.mean(y2)\n",
    "y2_mean"
   ]
  },
  {
   "cell_type": "code",
   "execution_count": 19,
   "metadata": {},
   "outputs": [
    {
     "data": {
      "text/plain": [
       "array([0.5       , 3.00090909])"
      ]
     },
     "execution_count": 19,
     "metadata": {},
     "output_type": "execute_result"
    }
   ],
   "source": [
    "#obtain the mean or reression coeficient and the cost for the second data set, the funtion np.polyfit gives us this informatio\n",
    "np.polyfit(x2, y2, 1)"
   ]
  },
  {
   "cell_type": "code",
   "execution_count": 20,
   "metadata": {},
   "outputs": [],
   "source": [
    "#declare the variable m2 as the values for mean for the second data set\n",
    "m2 = 0.5"
   ]
  },
  {
   "cell_type": "code",
   "execution_count": 21,
   "metadata": {},
   "outputs": [],
   "source": [
    "#declare the variable c2 as the values for mean for the second data set\n",
    "c2 = 3.00090909"
   ]
  },
  {
   "cell_type": "code",
   "execution_count": 48,
   "metadata": {},
   "outputs": [
    {
     "data": {
      "text/plain": [
       "0.6662420337274844"
      ]
     },
     "execution_count": 48,
     "metadata": {},
     "output_type": "execute_result"
    }
   ],
   "source": [
    "# Calculate the R-squared value for the second data set.\n",
    "np.corrcoef(x2, y2)[0][1]**2"
   ]
  },
  {
   "cell_type": "code",
   "execution_count": 23,
   "metadata": {},
   "outputs": [],
   "source": [
    "#convert x2 from a list of floats into an array,  thus I would be able to use it to calculate the best fit line.\n",
    "#In Python, multiplying a string and a float makes no defined meaning\n",
    "x2 = np.asarray(x2)"
   ]
  },
  {
   "cell_type": "code",
   "execution_count": 24,
   "metadata": {},
   "outputs": [
    {
     "data": {
      "image/png": "[encoded data removed]",
      "text/plain": [
       "<matplotlib.figure.Figure at 0x11c53d940>"
      ]
     },
     "metadata": {
      "needs_background": "light"
     },
     "output_type": "display_data"
    }
   ],
   "source": [
    "# Plot the best fit line for the secod sata set.\n",
    "plt.plot(x2, y2, 'k.', label='Original data')\n",
    "plt.plot(x2, m2 * x2 + c2, 'b-', label='Best fit line')\n",
    "plt.axis([0, 19, 0, 14])\n",
    "# Show the plot.\n",
    "plt.show()"
   ]
  },
  {
   "cell_type": "markdown",
   "metadata": {},
   "source": [
    "***Data set III***"
   ]
  },
  {
   "cell_type": "code",
   "execution_count": 25,
   "metadata": {},
   "outputs": [
    {
     "data": {
      "image/png": "[encoded data removed]",
      "text/plain": [
       "<matplotlib.figure.Figure at 0x11c825d68>"
      ]
     },
     "metadata": {
      "needs_background": "light"
     },
     "output_type": "display_data"
    }
   ],
   "source": [
    "#plot the visualisation with the third set of arrays\n",
    "import matplotlib.pyplot as plt\n",
    "plt.plot([10.0,8.0,13.0,9.0,11.0,14.0,6.0,4.0,12.0,7.0,5.0], [7.46,6.77,12.74,7.11,7.81,8.84,6.08,5.39,8.15,6.42,5.73], 'ro')\n",
    "plt.axis([0, 19, 0, 14])\n",
    "plt.show()"
   ]
  },
  {
   "cell_type": "markdown",
   "metadata": {},
   "source": [
    "**Claculating the descriptive statistics**"
   ]
  },
  {
   "cell_type": "code",
   "execution_count": 26,
   "metadata": {},
   "outputs": [],
   "source": [
    "#declare the variable x3 as the values for x for the third data set\n",
    "x3 = (10.0,8.0,13.0,9.0,11.0,14.0,6.0,4.0,12.0,7.0,5.0)"
   ]
  },
  {
   "cell_type": "code",
   "execution_count": 27,
   "metadata": {},
   "outputs": [],
   "source": [
    "#declare the variable y3 as the values for y for the third data set\n",
    "y3 = (7.46,6.77,12.74,7.11,7.81,8.84,6.08,5.39,8.15,6.42,5.73)"
   ]
  },
  {
   "cell_type": "code",
   "execution_count": 28,
   "metadata": {},
   "outputs": [
    {
     "data": {
      "text/plain": [
       "9.0"
      ]
     },
     "execution_count": 28,
     "metadata": {},
     "output_type": "execute_result"
    }
   ],
   "source": [
    "#mean of x in the third data set\n",
    "x3_mean= np.mean(x3)\n",
    "x3_mean"
   ]
  },
  {
   "cell_type": "code",
   "execution_count": 29,
   "metadata": {},
   "outputs": [
    {
     "data": {
      "text/plain": [
       "7.5"
      ]
     },
     "execution_count": 29,
     "metadata": {},
     "output_type": "execute_result"
    }
   ],
   "source": [
    "#mean of y in the third data set\n",
    "y3_mean= np.mean(y3)\n",
    "y3_mean"
   ]
  },
  {
   "cell_type": "code",
   "execution_count": 30,
   "metadata": {},
   "outputs": [
    {
     "data": {
      "text/plain": [
       "array([0.49972727, 3.00245455])"
      ]
     },
     "execution_count": 30,
     "metadata": {},
     "output_type": "execute_result"
    }
   ],
   "source": [
    "#obtain the mean or reression coeficient and the cost for the third data set, the funtion np.polyfit gives us this informatio\n",
    "np.polyfit(x3, y3, 1)"
   ]
  },
  {
   "cell_type": "code",
   "execution_count": 31,
   "metadata": {},
   "outputs": [],
   "source": [
    "#declare the variable m3 as the values for mean for the third data set\n",
    "m3 = 0.49972727"
   ]
  },
  {
   "cell_type": "code",
   "execution_count": 32,
   "metadata": {},
   "outputs": [],
   "source": [
    "#declare the variable c3 as the values for mean for the third data set\n",
    "c3 = 3.00245455"
   ]
  },
  {
   "cell_type": "code",
   "execution_count": 47,
   "metadata": {},
   "outputs": [
    {
     "data": {
      "text/plain": [
       "0.6663240410665595"
      ]
     },
     "execution_count": 47,
     "metadata": {},
     "output_type": "execute_result"
    }
   ],
   "source": [
    "# Calculate the R-squared value for the third data set.\n",
    "np.corrcoef(x3, y3)[0][1]**2"
   ]
  },
  {
   "cell_type": "code",
   "execution_count": 33,
   "metadata": {},
   "outputs": [],
   "source": [
    "#convert x3 from a list of floats into an array,  thus I would be able to use it to calculate the best fit line.\n",
    "#In Python, multiplying a string and a float makes no defined meaning\n",
    "x3 = np.asarray(x3)"
   ]
  },
  {
   "cell_type": "code",
   "execution_count": 34,
   "metadata": {},
   "outputs": [
    {
     "data": {
      "image/png": "[encoded data removed]",
      "text/plain": [
       "<matplotlib.figure.Figure at 0x11c8750f0>"
      ]
     },
     "metadata": {
      "needs_background": "light"
     },
     "output_type": "display_data"
    }
   ],
   "source": [
    "# Plot the best fit line for the secod sata set.\n",
    "plt.plot(x3, y3, 'k.', label='Original data')\n",
    "plt.plot(x3, m3 * x3 + c3, 'b-', label='Best fit line')\n",
    "plt.axis([0, 19, 0, 14])\n",
    "# Show the plot.\n",
    "plt.show()"
   ]
  },
  {
   "cell_type": "markdown",
   "metadata": {},
   "source": [
    "***Data set IIII***"
   ]
  },
  {
   "cell_type": "code",
   "execution_count": 35,
   "metadata": {},
   "outputs": [
    {
     "data": {
      "image/png": "[encoded data removed]",
      "text/plain": [
       "<matplotlib.figure.Figure at 0x11c8254e0>"
      ]
     },
     "metadata": {
      "needs_background": "light"
     },
     "output_type": "display_data"
    }
   ],
   "source": [
    "#plot the visualisation with the fourth set of arrays\n",
    "import matplotlib.pyplot as plt\n",
    "plt.plot([8.0,8.0,8.0,8.0,8.0,8.0,8.0,19.0,8.0,8.0,8.0], [6.58,5.76,7.71,8.84,8.47,7.04,5.25,12.50,5.56,7.91,6.89], 'ro')\n",
    "plt.axis([0, 20, 0, 14])\n",
    "plt.show()"
   ]
  },
  {
   "cell_type": "markdown",
   "metadata": {},
   "source": [
    "**Claculating the descriptive statistics**"
   ]
  },
  {
   "cell_type": "code",
   "execution_count": 36,
   "metadata": {},
   "outputs": [],
   "source": [
    "#declare the variable x4 as the values for x for the fourth data set\n",
    "x4 = 8.0,8.0,8.0,8.0,8.0,8.0,8.0,19.0,8.0,8.0,8.0"
   ]
  },
  {
   "cell_type": "code",
   "execution_count": 37,
   "metadata": {},
   "outputs": [],
   "source": [
    "#declare the variable y4 as the values for y for the fourth data set\n",
    "y4 = 6.58,5.76,7.71,8.84,8.47,7.04,5.25,12.50,5.56,7.91,6.89"
   ]
  },
  {
   "cell_type": "code",
   "execution_count": 38,
   "metadata": {},
   "outputs": [
    {
     "data": {
      "text/plain": [
       "9.0"
      ]
     },
     "execution_count": 38,
     "metadata": {},
     "output_type": "execute_result"
    }
   ],
   "source": [
    "#mean of x in the fourth data set\n",
    "x4_mean= np.mean(x4)\n",
    "x4_mean"
   ]
  },
  {
   "cell_type": "code",
   "execution_count": 39,
   "metadata": {},
   "outputs": [
    {
     "data": {
      "text/plain": [
       "7.500909090909091"
      ]
     },
     "execution_count": 39,
     "metadata": {},
     "output_type": "execute_result"
    }
   ],
   "source": [
    "#mean of y in the fourth data set\n",
    "y4_mean= np.mean(y4)\n",
    "y4_mean"
   ]
  },
  {
   "cell_type": "code",
   "execution_count": 40,
   "metadata": {},
   "outputs": [
    {
     "data": {
      "text/plain": [
       "array([0.49990909, 3.00172727])"
      ]
     },
     "execution_count": 40,
     "metadata": {},
     "output_type": "execute_result"
    }
   ],
   "source": [
    "#obtain the mean or reression coeficient and the cost for the fourth data set, the funtion np.polyfit gives us this informatio\n",
    "np.polyfit(x4, y4, 1)"
   ]
  },
  {
   "cell_type": "code",
   "execution_count": 41,
   "metadata": {},
   "outputs": [],
   "source": [
    "#declare the variable m4 as the value for mean for the fourth data set\n",
    "m4 = 0.49990909"
   ]
  },
  {
   "cell_type": "code",
   "execution_count": 42,
   "metadata": {},
   "outputs": [],
   "source": [
    "#declare the variable c4 as the value for cost for the fourth data set\n",
    "c4 = 3.00172727"
   ]
  },
  {
   "cell_type": "code",
   "execution_count": 49,
   "metadata": {},
   "outputs": [
    {
     "data": {
      "text/plain": [
       "0.6667072568984652"
      ]
     },
     "execution_count": 49,
     "metadata": {},
     "output_type": "execute_result"
    }
   ],
   "source": [
    "# Calculate the R-squared value for the fourth data set.\n",
    "np.corrcoef(x4, y4)[0][1]**2"
   ]
  },
  {
   "cell_type": "code",
   "execution_count": 43,
   "metadata": {},
   "outputs": [],
   "source": [
    "#convert x4 from a list of floats into an array,  thus I would be able to use it to calculate the best fit line.\n",
    "#In Python, multiplying a string and a float makes no defined meaning\n",
    "x4 = np.asarray(x4)"
   ]
  },
  {
   "cell_type": "code",
   "execution_count": 44,
   "metadata": {},
   "outputs": [
    {
     "data": {
      "image/png": "[encoded data removed]",
      "text/plain": [
       "<matplotlib.figure.Figure at 0x11cb5b2e8>"
      ]
     },
     "metadata": {
      "needs_background": "light"
     },
     "output_type": "display_data"
    }
   ],
   "source": [
    "# Plot the best fit line for the secod sata set.\n",
    "plt.plot(x4, y4, 'k.', label='Original data')\n",
    "plt.plot(x4, m4 * x4 + c4, 'b-', label='Best fit line')\n",
    "plt.axis([0, 20, 0, 14])\n",
    "# Show the plot.\n",
    "plt.show()"
   ]
  },
  {
   "cell_type": "code",
   "execution_count": 45,
   "metadata": {},
   "outputs": [
    {
     "data": {
      "image/png": "[encoded data removed]",
      "text/plain": [
       "<matplotlib.figure.Figure at 0x11c9bc908>"
      ]
     },
     "metadata": {
      "needs_background": "light"
     },
     "output_type": "display_data"
    }
   ],
   "source": [
    "#plots side by side\n",
    "#the first argument sets the number of rows\n",
    "#the second argument sets the number of columns\n",
    "#the third argument sets the position of the plot\n",
    "    \n",
    "plt.subplot(1,4,1)\n",
    "plt.plot(x1, y1, 'k.')\n",
    "plt.plot(x1, m1 * x1 + c1, 'b-')\n",
    "plt.axis([0, 20, 0, 14])\n",
    "\n",
    "plt.subplot(1,4,2)\n",
    "plt.plot(x2, y2, 'k.')\n",
    "plt.plot(x2, m2 * x2 + c2, 'b-')\n",
    "plt.axis([0, 20, 0, 14])\n",
    "\n",
    "plt.subplot(1,4,3)\n",
    "plt.plot(x3, y3, 'k.')\n",
    "plt.plot(x3, m3 * x3 + c3, 'b-')\n",
    "plt.axis([0, 20, 0, 14])\n",
    "\n",
    "plt.subplot(1,4,4)\n",
    "plt.plot(x4, y4, 'k.')\n",
    "plt.plot(x4, m4 * x4 + c4, 'b-')\n",
    "plt.axis([0, 20, 0, 14])\n",
    "\n",
    "plt.show()"
   ]
  },
  {
   "cell_type": "code",
   "execution_count": 46,
   "metadata": {},
   "outputs": [
    {
     "data": {
      "image/png": "[encoded data removed]",
      "text/plain": [
       "<matplotlib.figure.Figure at 0x11c9bcdd8>"
      ]
     },
     "metadata": {
      "needs_background": "light"
     },
     "output_type": "display_data"
    }
   ],
   "source": [
    "#plots in 2 colums and 2 rows\n",
    "#the first number in the argument sets the number of rows\n",
    "#the second argument sets the number of columns\n",
    "#the third argument sets the position of the plot\n",
    "\n",
    "\n",
    "#seting a plot with 2 rows, 2 columns and order first\n",
    "plt.subplot(221)\n",
    "plt.plot(x1, y1, 'k.')\n",
    "plt.plot(x1, m1 * x1 + c1, 'b-')\n",
    "plt.axis([0, 20, 0, 14])\n",
    "\n",
    "#seting a plot with 2 rows, 2 columns and order second\n",
    "plt.subplot(222)\n",
    "plt.plot(x2, y2, 'k.')\n",
    "plt.plot(x2, m2 * x2 + c2, 'b-')\n",
    "plt.axis([0, 20, 0, 14])\n",
    "\n",
    "\n",
    "#seting a plot with 2 rows, 2 columns and order third\n",
    "plt.subplot(223)\n",
    "plt.plot(x3, y3, 'k.')\n",
    "plt.plot(x3, m3 * x3 + c3, 'b-')\n",
    "plt.axis([0, 20, 0, 14])\n",
    "\n",
    "#seting a plot with 2 rows, 2 columns and order fourth\n",
    "plt.subplot(224)\n",
    "plt.plot(x4, y4, 'k.')\n",
    "plt.plot(x4, m4 * x4 + c4, 'b-')\n",
    "plt.axis([0, 20, 0, 14])\n",
    "\n",
    "plt.show()\n",
    "\n",
    "\n"
   ]
  },
  {
   "cell_type": "markdown",
   "metadata": {},
   "source": [
    "**Study of tha data set**\n",
    "\n",
    "The output of the 4 data sets are the same:\n",
    "\n",
    "_Descriptive statistics_\n",
    "\n",
    "Number of observations = 11 (counted from the data set, there is 11 points in each data set)\n",
    "\n",
    "Mean of x = 9 (calculated above in each of the data sets)\n",
    "\n",
    "Mean of y = 7.5 (calculated above in each of the data sets)\n",
    "\n",
    "Reression coeficient of y on x = 0.5 (calculated above as mean in each of the data sets)\n",
    "\n",
    "Equation of regression line = (y = 3 + 0.5 x) (formula taken from the calculation of the mean and the cost)\n",
    "\n",
    "Multiple R-squared = 0.67\n",
    "\n",
    "\n",
    "\n",
    "http://www.sjsu.edu/faculty/gerstman/StatPrimer/anscombe1973.pdf\n",
    "\n",
    "While analyzing the grapical representation of them, it can be seen the differences between the data.\n",
    "In terms of the models they folow the differences are also visible:\n",
    "\n",
    "The first plot shows an example of pure error, the observations appear randomly distributed around the regression line, just as the model assumes.\n",
    "\n",
    "The second one is an example of lack of fit, the model assumes a linear relationship but the dependence is in fact curvilinear\n",
    "\n",
    "The third plot shows an example of an outlier, the model specifies a linear relationship and all points but one follow it exactly.\n",
    "\n",
    "The fourth data set is an example of influence, the slope is completely determined by the observation on the right. Without that observation we would not be able to estimate the regression, as all x's would be the same\n",
    "\n",
    "Then simple linear regression model is not going to perform equally well on each. While we can see a linear relationship in the first and the third, their regression lines are substantially different. In the second plot, we can see that the variables are related but not linearly correlated, and also that they are not normally distributed. Moreover, both the third and the fourth datasets contain outliers big enough to strongly influence the correlation coefficients.\n",
    "\n",
    "\n",
    "\n",
    "\n",
    "**Interest of the data set:**\n",
    "\n",
    "The base of the interest of the Anscombe's quartet dataset is that even a set of unmbers can have the same mean X and Y and the regression line that best fits the 4th of them is the same, the data varies significntly between them. \n",
    "\n",
    "In fact, studying the data set the variance of both X and Y (and hence the standard deviation) is also the pretty much the same in every chart. As is the correlation coefficient of X and Y, and the regression line that would be the line of best fit if were you to generate a linear model based on each of those 4 datasets.\n",
    "\n",
    "The point is to show the true power of data visualisation. There are some summary stats that  might be so summarised that they can lead to an entirely misleading perception. Then the importance of this data set is the exemplification that summarising in excess the data can lead to wrong predictions or interpretations and the importance of visualisation to identify this variations. In the Anscombes quartet dataset thanks to the visualisation of the data the differences are made clear.\n",
    "\n",
    "\n",
    "Anscombes basic goal is to refute the affirmations that in his view most of data analysts and staticians are inductrinated with:\n",
    "1. Numerical calculations are exact but graphs are rough\n",
    "2. For any particular kind of statistical data there is just one set of calculations constituting a correct statistical analysis\n",
    "3. Performing intricated calculations is virtuous \n",
    "\n",
    "http://www.sjsu.edu/faculty/gerstman/StatPrimer/anscombe1973.pdf\n",
    "\n",
    "https://www.districtdatalabs.com/visual-diagnostics-for-more-informed-machine-learning-part-1/"
   ]
  },
  {
   "cell_type": "markdown",
   "metadata": {},
   "source": [
    "### Conclusion ###\n",
    "\n",
    "Anscombes presented the four data sets in his paper Graphs in Statistical Analysis to ilustrate how the usual points of data analysis can be misleading and how this errors can be avoided trough the representation of the data in plots. \n",
    "\n",
    "Visualization may not be as precise as statistics, but it provides a unique view onto data that can make it much easier to discover interesting structures than numerical methods. Visualization also provides the context necessary to make better choices and to be more careful when fitting models. Anscombe’s Quartet is a case in point, showing that four datasets that have identical statistical properties can indeed be very different.\n",
    "\n",
    "As per the research done in this task, the visualization of the data seem to be of key importance in machine learning as well becuase it can mean the difference between a model that crashes and burns and one that predicts the future.\n",
    "\n",
    "_Source:_\n",
    "\n",
    "https://rstudio-pubs-static.s3.amazonaws.com/52381_36ec82827e4b476fb968d9143aec7c4f.html\n",
    "https://www.districtdatalabs.com/visual-diagnostics-for-more-informed-machine-learning-part-1/"
   ]
  },
  {
   "cell_type": "code",
   "execution_count": null,
   "metadata": {},
   "outputs": [],
   "source": []
  }
 ],
 "metadata": {
  "kernelspec": {
   "display_name": "Python 3",
   "language": "python",
   "name": "python3"
  },
  "language_info": {
   "codemirror_mode": {
    "name": "ipython",
    "version": 3
   },
   "file_extension": ".py",
   "mimetype": "text/x-python",
   "name": "python",
   "nbconvert_exporter": "python",
   "pygments_lexer": "ipython3",
   "version": "3.6.6"
  }
 },
 "nbformat": 4,
 "nbformat_minor": 2
}
